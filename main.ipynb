{
 "cells": [
  {
   "cell_type": "markdown",
   "metadata": {},
   "source": [
    "Load data"
   ]
  },
  {
   "cell_type": "code",
   "execution_count": 2,
   "metadata": {},
   "outputs": [],
   "source": [
    "import os\n",
    "import pandas as pd\n",
    "import glob\n",
    "from typing import Tuple, List"
   ]
  },
  {
   "cell_type": "code",
   "execution_count": 5,
   "metadata": {},
   "outputs": [
    {
     "name": "stdout",
     "output_type": "stream",
     "text": [
      "D:\\MyProjects\\Gait-in-Parkinson-s-Disease\\data\\*.txt\n"
     ]
    },
    {
     "ename": "TypeError",
     "evalue": "'module' object is not iterable",
     "output_type": "error",
     "traceback": [
      "\u001B[1;31m---------------------------------------------------------------------------\u001B[0m",
      "\u001B[1;31mTypeError\u001B[0m                                 Traceback (most recent call last)",
      "Input \u001B[1;32mIn [5]\u001B[0m, in \u001B[0;36m<cell line: 3>\u001B[1;34m()\u001B[0m\n\u001B[0;32m      1\u001B[0m path_to_data_folder \u001B[38;5;241m=\u001B[39m os\u001B[38;5;241m.\u001B[39mpath\u001B[38;5;241m.\u001B[39mjoin(os\u001B[38;5;241m.\u001B[39mgetcwd(), \u001B[38;5;124m\"\u001B[39m\u001B[38;5;124mdata\u001B[39m\u001B[38;5;124m\"\u001B[39m)\n\u001B[0;32m      2\u001B[0m \u001B[38;5;28mprint\u001B[39m(os\u001B[38;5;241m.\u001B[39mpath\u001B[38;5;241m.\u001B[39mjoin(path_to_data_folder, \u001B[38;5;124m'\u001B[39m\u001B[38;5;124m*.txt\u001B[39m\u001B[38;5;124m'\u001B[39m))\n\u001B[1;32m----> 3\u001B[0m \u001B[38;5;28;01mfor\u001B[39;00m f \u001B[38;5;129;01min\u001B[39;00m glob:\n\u001B[0;32m      4\u001B[0m     variable_name \u001B[38;5;241m=\u001B[39m os\u001B[38;5;241m.\u001B[39mpath\u001B[38;5;241m.\u001B[39msplitext(os\u001B[38;5;241m.\u001B[39mpath\u001B[38;5;241m.\u001B[39mbasename(f))[\u001B[38;5;241m0\u001B[39m]\n\u001B[0;32m      5\u001B[0m     \u001B[38;5;28mprint\u001B[39m(variable_name)\n",
      "\u001B[1;31mTypeError\u001B[0m: 'module' object is not iterable"
     ]
    }
   ],
   "source": [
    "path_to_data_folder = os.path.join(os.getcwd(), \"data\")\n",
    "print(os.path.join(path_to_data_folder, '*.txt'))\n",
    "for f in glob(os.path.join(path_to_data_folder, '*.txt')):\n",
    "    variable_name = os.path.splitext(os.path.basename(f))[0]\n",
    "    globals()[variable_name] = pd.read_csv(f, delimiter='\\t')\n",
    "    globals()[variable_name].columns = ['Time[s]','VGRF-left1', 'VGRF-left2','VGRF-left3','VGRF-left4','VGRF-left5','VGRF-left6','VGRF-left7','VGRF-left8','VGRF-right1', 'VGRF-right2','VGRF-right3','VGRF-right4','VGRF-right5','VGRF-right6','VGRF-right7','VGRF-right8','Total Force-left','Total Force-right']"
   ]
  },
  {
   "cell_type": "code",
   "execution_count": 6,
   "metadata": {},
   "outputs": [],
   "source": [
    "def divide_dataset_to_Co_and_Pt(path_to_data_folder: str) -> Tuple[List[str], List[str]]:\n",
    "    \"\"\"\n",
    "\n",
    "    Parameters\n",
    "    ----------\n",
    "    path_to_data_folder: str\n",
    "        path to data folder\n",
    "\n",
    "    Returns\n",
    "    -------\n",
    "    file_names_Co: List[str]\n",
    "        list contains names of files containing Co in name\n",
    "    file_names_Pt: List[str]\n",
    "        list contains names of files containing Pt in name\n",
    "    \"\"\"\n",
    "\n",
    "    file_names = os.listdir(path_to_data_folder)\n",
    "    file_names_Co = [i for i in file_names if 'Co' in i]\n",
    "    file_names_Pt = [i for i in file_names if 'Pt' in i]\n",
    "    return file_names_Co, file_names_Pt"
   ]
  },
  {
   "cell_type": "code",
   "execution_count": 62,
   "metadata": {
    "pycharm": {
     "name": "#%%\n"
    }
   },
   "outputs": [],
   "source": [
    "file_names_Co, file_names_Pt = divide_dataset_to_Co_and_Pt(path_to_data_folder)\n",
    "\n"
   ]
  }
 ],
 "metadata": {
  "kernelspec": {
   "display_name": "Python 3 (ipykernel)",
   "language": "python",
   "name": "python3"
  },
  "language_info": {
   "codemirror_mode": {
    "name": "ipython",
    "version": 3
   },
   "file_extension": ".py",
   "mimetype": "text/x-python",
   "name": "python",
   "nbconvert_exporter": "python",
   "pygments_lexer": "ipython3",
   "version": "3.10.0"
  }
 },
 "nbformat": 4,
 "nbformat_minor": 1
}