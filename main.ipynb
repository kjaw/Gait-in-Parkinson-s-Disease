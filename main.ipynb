{
 "cells": [
  {
   "cell_type": "markdown",
   "metadata": {},
   "source": [
    "Load data"
   ]
  },
  {
   "cell_type": "code",
   "execution_count": 6,
   "metadata": {},
   "outputs": [],
   "source": [
    "import os\n",
    "import pandas as pd\n",
    "import glob\n",
    "from typing import Tuple, List"
   ]
  },
  {
   "cell_type": "code",
   "execution_count": 8,
   "metadata": {},
   "outputs": [
    {
     "name": "stdout",
     "output_type": "stream",
     "text": [
      "E:\\PD_gait_analysis\\data\\*.txt\n"
     ]
    }
   ],
   "source": [
    "path_to_data_folder = os.path.join(os.getcwd(), \"data\")\n",
    "print(os.path.join(path_to_data_folder, '*.txt'))\n",
    "for f in glob.glob(os.path.join(path_to_data_folder, '*.txt')):\n",
    "    variable_name = os.path.splitext(os.path.basename(f))[0]\n",
    "    globals()[variable_name] = pd.read_csv(f, delimiter='\\t')\n",
    "    globals()[variable_name].columns = ['Time[s]','VGRF-left1', 'VGRF-left2','VGRF-left3','VGRF-left4','VGRF-left5','VGRF-left6','VGRF-left7','VGRF-left8','VGRF-right1', 'VGRF-right2','VGRF-right3','VGRF-right4','VGRF-right5','VGRF-right6','VGRF-right7','VGRF-right8','Total Force-left','Total Force-right']"
   ]
  },
  {
   "cell_type": "code",
   "execution_count": 11,
   "metadata": {},
   "outputs": [],
   "source": [
    "def divide_dataset_to_Co_and_Pt(path_to_data_folder: str) -> Tuple[List[str], List[str]]:\n",
    "    \"\"\"\n",
    "\n",
    "    Parameters\n",
    "    ----------\n",
    "    path_to_data_folder: str\n",
    "        path to data folder\n",
    "\n",
    "    Returns\n",
    "    -------\n",
    "    file_names_Co: List[str]\n",
    "        list contains names of files containing Co in name\n",
    "    file_names_Pt: List[str]\n",
    "        list contains names of files containing Pt in name\n",
    "    \"\"\"\n",
    "\n",
    "    file_names = os.listdir(path_to_data_folder)\n",
    "    file_names_Co = [i for i in file_names if 'Co' in i]\n",
    "    file_names_Pt = [i for i in file_names if 'Pt' in i]\n",
    "    return file_names_Co, file_names_Pt"
   ]
  },
  {
   "cell_type": "code",
   "execution_count": 15,
   "metadata": {
    "pycharm": {
     "name": "#%%\n"
    }
   },
   "outputs": [
    {
     "name": "stdout",
     "output_type": "stream",
     "text": [
      "<class 'pandas.core.frame.DataFrame'>\n"
     ]
    }
   ],
   "source": [
    "file_names_Co, file_names_Pt = divide_dataset_to_Co_and_Pt(path_to_data_folder)"
   ]
  },
  {
   "cell_type": "markdown",
   "source": [
    "Gait Phase Detection\n"
   ],
   "metadata": {
    "collapsed": false,
    "pycharm": {
     "name": "#%% md\n"
    }
   }
  },
  {
   "cell_type": "code",
   "execution_count": null,
   "outputs": [],
   "source": [
    "def remove_spikes(signal: pd.core.frame.DataFrame) -> List[float]:\n",
    "    \"\"\"\n",
    "    Remove spikes within swing phase\n",
    "\n",
    "    Parameters\n",
    "    ----------\n",
    "    signal: pd.core.frame.DataFrame\n",
    "        data frame contains dynamic center od pressure during gait\n",
    "\n",
    "    Returns\n",
    "    -------\n",
    "    signal_no_spikes: List[float]\n",
    "        list contains coordinates of center of pressure for left foot\"\"\"\n",
    "    signal_no_spikes = signal\n",
    "    for index in range(1,len(signal)):\n",
    "        if((signal.iloc[index-1]==0 and signal.iloc[index]>0 and signal.iloc[index+1]==0)) or ((signal.iloc[index-1]==0 and signal.iloc[index]>0 and signal.iloc[index+1]>0)):\n",
    "            signal_no_spikes.iloc[index]=0\n",
    "        else:\n",
    "            pass\n",
    "    return signal_no_spikes"
   ],
   "metadata": {
    "collapsed": false,
    "pycharm": {
     "name": "#%%\n",
     "is_executing": true
    }
   }
  },
  {
   "cell_type": "code",
   "execution_count": 115,
   "outputs": [],
   "source": [
    "def center_of_pressure_detection(file_name: pd.core.frame.DataFrame) -> Tuple[List[float], List[float]]:\n",
    "\n",
    "    \"\"\"\n",
    "    Parameters\n",
    "    ----------\n",
    "    file_name: pd.core.frame.DataFrame\n",
    "        data frame contains time[s], measurements from 16 pressure sensors - 8 left leg and 8 right leg, and total force for left leg and right leg\n",
    "\n",
    "    Returns\n",
    "    -------\n",
    "    y_left: List[float]\n",
    "        list contains coordinates of center of pressure for left foot\n",
    "    y_right: List[float]\n",
    "        list contains coordinates of center of pressure for right foot\n",
    "    \"\"\"\n",
    "\n",
    "    # L1 (-500,-800) R1 (500,-800)\n",
    "    # L2 (-700,-400) R2 (700,-400)\n",
    "    # L3 (-300,-400) R3 (300,-400)\n",
    "    # L4 (-700,0)    R4 (700,0)\n",
    "    # L5 (-300,0)    R5 (300,0)\n",
    "    # L6 (-700,400)  R6 (700,400)\n",
    "    # L7 (-300,400)  R7 (300,400)\n",
    "    # L8 (-500,800)  R8 (500,800)\n",
    "\n",
    "    y_coordinates = {'1': -800,'2': -400,'3': -400,'4': 0,'5': 0,'6': 400,'7': 400,'8': 800}\n",
    "    filename_col_names_left_leg = ['VGRF-left1', 'VGRF-left2','VGRF-left3','VGRF-left4','VGRF-left5','VGRF-left6','VGRF-left7','VGRF-left8']\n",
    "    filename_col_names_right_leg = ['VGRF-right1', 'VGRF-right2','VGRF-right3','VGRF-right4','VGRF-right5','VGRF-right6','VGRF-right7','VGRF-right8']\n",
    "\n",
    "    y_coordinates_left = sum(file_name[filename_col_names_left_leg[i]]*y_coordinates[str(i+1)] for i in range(len(filename_col_names_left_leg)))/file_name['Total Force-left']\n",
    "    y_coordinates_right = sum(file_name[filename_col_names_right_leg[i]]*y_coordinates[str(i+1)] for i in range(len(filename_col_names_right_leg)))/file_name['Total Force-right']\n",
    "\n",
    "    # file_name['Total Force-left'] can be 0 because during swing phase total pressure equals to 0\n",
    "    # then all NaN values are replaced with 0\n",
    "    y_coordinates_left = y_coordinates_left.fillna(0)\n",
    "    y_coordinates_right = y_coordinates_right.fillna(0)\n",
    "\n",
    "    y_coordinates_left = remove_spikes(y_coordinates_left)\n",
    "    y_coordinates_right = remove_spikes(y_coordinates_right)\n",
    "\n",
    "    return y_coordinates_left, y_coordinates_right"
   ],
   "metadata": {
    "collapsed": false,
    "pycharm": {
     "name": "#%%\n"
    }
   }
  }
 ],
 "metadata": {
  "kernelspec": {
   "display_name": "Python 3 (ipykernel)",
   "language": "python",
   "name": "python3"
  },
  "language_info": {
   "codemirror_mode": {
    "name": "ipython",
    "version": 3
   },
   "file_extension": ".py",
   "mimetype": "text/x-python",
   "name": "python",
   "nbconvert_exporter": "python",
   "pygments_lexer": "ipython3",
   "version": "3.10.0"
  }
 },
 "nbformat": 4,
 "nbformat_minor": 1
}